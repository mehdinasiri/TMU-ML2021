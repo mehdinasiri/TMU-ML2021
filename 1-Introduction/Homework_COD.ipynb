{
  "nbformat": 4,
  "nbformat_minor": 0,
  "metadata": {
    "kernelspec": {
      "display_name": "Python 3",
      "language": "python",
      "name": "python3"
    },
    "language_info": {
      "codemirror_mode": {
        "name": "ipython",
        "version": 3
      },
      "file_extension": ".py",
      "mimetype": "text/x-python",
      "name": "python",
      "nbconvert_exporter": "python",
      "pygments_lexer": "ipython3",
      "version": "3.6.5"
    },
    "toc": {
      "colors": {
        "hover_highlight": "#DAA520",
        "navigate_num": "#000000",
        "navigate_text": "#333333",
        "running_highlight": "#FF0000",
        "selected_highlight": "#FFD700",
        "sidebar_border": "#EEEEEE",
        "wrapper_background": "#FFFFFF"
      },
      "moveMenuLeft": true,
      "nav_menu": {
        "height": "138px",
        "width": "252px"
      },
      "navigate_menu": true,
      "number_sections": true,
      "sideBar": true,
      "threshold": 4,
      "toc_cell": false,
      "toc_section_display": "block",
      "toc_window_display": false,
      "widenNotebook": false
    },
    "colab": {
      "name": "Homework_COD.ipynb",
      "provenance": [],
      "collapsed_sections": []
    }
  },
  "cells": [
    {
      "cell_type": "markdown",
      "metadata": {
        "nbgrader": {
          "grade": false,
          "locked": false,
          "solution": false
        },
        "id": "oQ8h2mYy0pQz"
      },
      "source": [
        "# Curse of dimensionality exercises:"
      ]
    },
    {
      "cell_type": "markdown",
      "metadata": {
        "nbgrader": {
          "grade": false,
          "locked": false,
          "solution": false
        },
        "id": "8N14bANHdeCN"
      },
      "source": [
        "## Exercise 1"
      ]
    },
    {
      "cell_type": "markdown",
      "metadata": {
        "id": "hEwXAeYtbzQi"
      },
      "source": [
        "Suppose we have 50 points between 0 and 100 to be spread randomly. "
      ]
    },
    {
      "cell_type": "code",
      "metadata": {
        "id": "3g5cSZEee8IX"
      },
      "source": [
        "import pandas as pd\n",
        "import matplotlib.pyplot as plt\n",
        "import random\n",
        "import numpy as np\n",
        "from mpl_toolkits import mplot3d\n",
        "\n",
        "%matplotlib inline"
      ],
      "execution_count": null,
      "outputs": []
    },
    {
      "cell_type": "markdown",
      "metadata": {
        "id": "818kJBwUbzQj"
      },
      "source": [
        "### First try with one dimension\n",
        "\n",
        "`1.`Generate and plot the 50 points within 5 intervals:  \n",
        "- [0,20), \n",
        "- [20,40), \n",
        "- [40,60), \n",
        "- [60,80),\n",
        "- [80,100)"
      ]
    },
    {
      "cell_type": "markdown",
      "metadata": {
        "id": "dgEk9j0FbzQl"
      },
      "source": [
        "## Now let's try with 2 dimensions"
      ]
    },
    {
      "cell_type": "markdown",
      "metadata": {
        "id": "cV9A4VaVbzQm"
      },
      "source": [
        "`2.`Assuming we have 5 intervals on the first dimension and 5 intervals on the 2nd dimension, generate 50 points within these intervals and plot them."
      ]
    },
    {
      "cell_type": "markdown",
      "metadata": {
        "id": "AVDtf4nSbzQn"
      },
      "source": [
        "## Now in 3D Case"
      ]
    },
    {
      "cell_type": "markdown",
      "metadata": {
        "id": "9cJoPfw4bzQn"
      },
      "source": [
        "`3.`Now suppose we have 5 intervals on the third dimension.With this condition, generate 50 points within them and plot the points in a 3d manner."
      ]
    },
    {
      "cell_type": "markdown",
      "metadata": {
        "id": "253DrJJHg-Bm"
      },
      "source": [
        "Calculate the average number of points in each cell (both theoretically and practically), then discuss your answers."
      ]
    },
    {
      "cell_type": "markdown",
      "metadata": {
        "id": "C0hghftabzQf"
      },
      "source": [
        "**Answer:**\n",
        "\n"
      ]
    },
    {
      "cell_type": "markdown",
      "metadata": {
        "nbgrader": {
          "grade": false,
          "locked": false,
          "solution": false
        },
        "id": "Q2pxWCkvunM9"
      },
      "source": [
        "## Exercise 2\n",
        "\n"
      ]
    },
    {
      "cell_type": "markdown",
      "metadata": {
        "id": "28X7uZjtusyw"
      },
      "source": [
        "`1.`Suppose there is a circle inside a squere. Imagine we've standard scaled our data, so they're centered on zero. This means that the center of our circle is now zero. Try to plot this circle inside a squere. Note that the ratio of your circle is 1."
      ]
    },
    {
      "cell_type": "markdown",
      "metadata": {
        "id": "bxH67Qypw9_E"
      },
      "source": [
        "`2.`Calculate what fraction of the volume of the square is outside the circle.Do the same for the cube outside the sphere, etc (Try to plot the situation and answer the question).\n",
        "\n",
        "**Bonus :** Try to answer for higher dimensions(4 and more). Draw some random points from a 0-1 distribution, then measure how far away from the origin they are. Also, calculate what percentage of n-cube in inside the n-ball (for n>3). Can you analyze these results?"
      ]
    },
    {
      "cell_type": "markdown",
      "metadata": {
        "id": "L4K-x7RIwxF8"
      },
      "source": [
        "**Answer:**\n"
      ]
    },
    {
      "cell_type": "markdown",
      "metadata": {
        "id": "ci4nn3-RvPnz"
      },
      "source": [
        "\n",
        "### Can we generalize to more than three dimensions? \n",
        "\n",
        "Let's draw a bunch of random points from a 0-1 distribution, then measure how far away from the origin they are. (4D to 10D)\n"
      ]
    },
    {
      "cell_type": "code",
      "metadata": {
        "id": "fJxHUbPPvPn1"
      },
      "source": [
        "def norm(x):\n",
        "    ''' Measure the distance of each point from the origin.'''\n",
        "    pass\n",
        "\n",
        "def inball(x):\n",
        "    ''' Determine if the sample is in the circle. '''\n",
        "    pass\n",
        "\n",
        "def what_percent_of_the_ncube_is_in_the_nball(d_dim,sample_size=10**4):\n",
        "    pass\n"
      ],
      "execution_count": null,
      "outputs": []
    },
    {
      "cell_type": "markdown",
      "metadata": {
        "collapsed": false,
        "id": "HXV6DA-rD_fc"
      },
      "source": [
        "## Exercise 3"
      ]
    },
    {
      "cell_type": "markdown",
      "metadata": {
        "id": "pOWcSOlQsiZW"
      },
      "source": [
        "`1.`Generate 50 points randomly with a uniform distribution in the range of 0 to 100 for one, three, ten and one hundred dimensions, then calculate the average distance of 5 nearest neighbors (5-NN) for 10 random points in each dimension.\n",
        "Discuss your answer."
      ]
    },
    {
      "cell_type": "markdown",
      "metadata": {
        "id": "PtFQ5JUFtFdQ"
      },
      "source": [
        "**Answer :**"
      ]
    }
  ]
}