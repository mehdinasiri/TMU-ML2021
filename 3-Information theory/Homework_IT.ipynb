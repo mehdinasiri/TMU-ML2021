{
  "nbformat": 4,
  "nbformat_minor": 0,
  "metadata": {
    "kernelspec": {
      "display_name": "Python 3",
      "language": "python",
      "name": "python3"
    },
    "language_info": {
      "codemirror_mode": {
        "name": "ipython",
        "version": 2
      },
      "file_extension": ".py",
      "mimetype": "text/x-python",
      "name": "python",
      "nbconvert_exporter": "python",
      "pygments_lexer": "ipython2",
      "version": "2.7.6"
    },
    "colab": {
      "name": "Homework-IT.ipynb",
      "provenance": [],
      "collapsed_sections": []
    }
  },
  "cells": [
    {
      "cell_type": "markdown",
      "metadata": {
        "id": "697nte9lZwsy"
      },
      "source": [
        "# Information theory exercise:"
      ]
    },
    {
      "cell_type": "markdown",
      "metadata": {
        "collapsed": false,
        "pycharm": {
          "name": "#%% md\n"
        },
        "id": "TsBEN4qBFp6l"
      },
      "source": [
        "Each element of the classes array shows the number of data in that class. Now generate these data randomly with this schema; Eight random points between 0 and 1, two random points between 1 and 2, and so on. Then, plot data distribution and approximate this distribution with uniform, laplace and normal distributions. Which one is a better approximation of true distribution? (use Kullback-Leibler and Jensen-Shannon Divergence)"
      ]
    },
    {
      "cell_type": "code",
      "metadata": {
        "pycharm": {
          "name": "#%%\n"
        },
        "id": "ufgYpbzOFp6y"
      },
      "source": [
        "import matplotlib.pyplot as plt\n",
        "import numpy as np\n",
        "from scipy.special import factorial\n",
        "\n",
        "classes = np.array([8,2,12,33,28,54,61,49,21,27])\n"
      ],
      "execution_count": null,
      "outputs": []
    }
  ]
}